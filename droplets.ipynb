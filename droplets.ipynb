{
 "metadata": {
  "name": "",
  "signature": "sha256:df17d2535ca00a21167ca28bedb6572538b2883c4d1406cd9895b9ac043169ea"
 },
 "nbformat": 3,
 "nbformat_minor": 0,
 "worksheets": []
}