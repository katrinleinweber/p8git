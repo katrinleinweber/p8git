{
 "metadata": {
  "name": "",
  "signature": "sha256:30c5f09ad59b82dcdb2fb4de43ece17b33650bba51db7c4641a7769a73ebac76"
 },
 "nbformat": 3,
 "nbformat_minor": 0,
 "worksheets": [
  {
   "cells": [
    {
     "cell_type": "markdown",
     "metadata": {},
     "source": [
      "## Model choices\n",
      "###Close section\n",
      "\n",
      "<font color=green>**Mass Spring Model with nearest and second nearest springs is stable. Use this model**</font>\n",
      "\n",
      "Solid models have to be choosen that allows modification of the Elastic modulus with change of a single variable. Two options available so far, <br>\n",
      "\n",
      "1. Simple Lattice Spring models, that follow E $\\alpha$ k/a scaling __[Paper1](https://link.springer.com/content/pdf/10.1007%2Fs00371-014-1015-5.pdf)__\n",
      "\n",
      "2. Morse potentials for more realistic solids for fcc and bcc structures __[Paper2](https://aip.scitation.org/doi/pdf/10.1063/1.2198112)__\n",
      "\n",
      "***\n",
      "EAM seems like an option --- widely used, but surface atoms are not modelled accurately __[Paper3](https://arxiv.org/ftp/arxiv/papers/1209/1209.4568.pdf)__\n",
      "<br>**Modeling Surface atoms is paramount**\n",
      "\n",
      "*** \n",
      "\n",
      "<div class=\"alert alert-block alert-info\"> Possible options <br> 1. LJ <br> 2. EAM and an updated version [Paper3] <br> 3. Bonds with Morse or Harmoic potentials</div>\n",
      "\n",
      "\n",
      "<font color=green>Water Model</font><br>\n",
      "SPCE @ 300 K from Fr\u00e9d\u00e9ric's paper on water-graphite (with Derek) <br>\n",
      "$\\sigma$=3.166 $\\AA$ <br>\n",
      "$\\epsilon_O$= <br>\n",
      "cutoff=1.2 nm for both vdW and Coloumb<br> \n",
      "Long-range for electrostatics using PPPM<br>\n",
      "\n",
      "__[Input file](Inputfile.ipynb)__ \n",
      "\n",
      "Droplet Box dimesions\n",
      "\n",
      "in z - 180 ang and solid should contain many layers (like 8 at least) \n",
      "in y - 60 (cylindrical)\n",
      "in x - 300 or more \n",
      "\n",
      "Number of water molecules 6400 --- computed assuming 90 degree contact angle and the droplet forms a hemisphere --- with dimensions 60 in y and radius 45 in x"
     ]
    },
    {
     "cell_type": "markdown",
     "metadata": {},
     "source": [
      "# Droplet Induced stress on solid surfaces\n",
      "## Problem to be Addressed \n",
      "We would like to figure out how droplet induced stress decays around the contact line. This information could be used to apply the Young's equation locally and accordingly study the structure of solid or droplet. \n",
      "\n",
      "<font color=red>Important</font>: To realize that the term that enters the Young's equation should be the interfacial tensions (for the solid) and not the free-energy values.\n",
      "\n",
      "First, we considered a water droplet on the surface of graphene. However, this problems make the study too specific, especially given that graphene has a high in-plane elastic modulus (~1TPa). To perform a systematic system, we now choose simple solid models with known elastic modulus and then simulate water droplets at various interaction strengths to see how the induced stress decays around the contact line. \n",
      "\n",
      "<font color=green>**To study this, we need the following**</font>\n",
      "    1. Several solid models with known (estimated) Young's modulus <font color=red> \n",
      "        **Modulus** is anisotropic, should consider that ---- solution is to use an isotropic solid\n",
      "    2. Water model, SPC/E @300K, 1 atm (check)\n",
      "    3. Sufficiently characterised water-solid interaction. Based on work of adhesion or $\\epsilon$ alone is fine, if the lattice constant of the surface remains constant.\n",
      "\n",
      "<font color=green>**Modeling strategy**</font>\n",
      "    1. Estimate Elastic moduli of solids\n",
      "        By modeling at least at 3 different deformations \n",
      "        Should be varied in a range of at least 2 orders of magnitude (1 GPa to 1000 GPa preferably)\n",
      "    2. Create a droplet on surfaces and equilibrate\n",
      "    3. Study a reference solid with the exact same structure without the droplet\n",
      "    4. Now, compute the droplet induced stresses and its spatial distribution\n",
      "    5. Tadaa!\n",
      "\n",
      "## Parameter space\n",
      "-  $\\epsilon_{SL}$\n",
      "-  Young's modulus of the solid"
     ]
    },
    {
     "cell_type": "markdown",
     "metadata": {},
     "source": [
      "#THEORY\n",
      "\n",
      "1. Bulk Modulus and Cohesive Energy\n",
      "\\begin{align}\n",
      "B & = V^2\\frac{\\partial ^2E}{\\partial V^2} = -V\\frac{\\partial P}{\\partial V}\n",
      "\\end{align}\n",
      "\n",
      "2. Simple Cubic crystal (with atoms only on the edges of the cube) has 3 independent Elastic constants\n",
      "    C11 (Young's Modulus)\n",
      "    C12 (Modulus relating the stress in the direction perpendicular to the strain)\n",
      "    C44 (Shear Modulus)\n",
      "    The above constants could be computed by imposing a strain in x and measuring $\\sigma_{xx}$, $\\sigma_{yy}$ and $\\sigma_{zz}$\n",
      "    Bulk Modulus is given by, $B=\\frac{C11+2C12}{2}$\n",
      "\n",
      "3. Obtaining Elastic Modulus by deforming the box, <font color=Green> MD</font>  __[Paper](http://iopscience.iop.org/article/10.1088/0268-1242/21/7/014/pdf)__ <br>\n",
      "    \n",
      "    a. A rigorous formulation <br>\n",
      "    b. Deforms the entire volume or multiple directions <br>\n",
      "    c. Calls C11-C12 as the shear modulus (?) and also C44 "
     ]
    },
    {
     "cell_type": "markdown",
     "metadata": {},
     "source": [
      "##**References**<br>\n",
      "  1. Quick review of elasticity __[MIT notes](http://web.mit.edu/16.20/homepage/3_Constitutive/Constitutive_files/module_3_with_solutions.pdf)__\n",
      "  2. On moduli of fcc and bcc crystals __[SciHub](\"http://sci-hub.tw/10.1016/0956-7151(92\\)90421-a#\")__\n",
      "  3. More Baiscs and symmetries __[SciHub](https://sci-hub.tw/https://www.sciencedirect.com/science/article/pii/S1079404201800849)__\n",
      "  4. Heinz LJ potentials __[Heinz](https://pubs.acs.org/doi/pdf/10.1021/jp801931d)__\n",
      "  5. <font color=green>MD</font> Tutorial of determining Elastic properties of simple crystals __[Paper](http://micro.stanford.edu/mediawiki/images/8/83/Cnm_chap128_draft.pdf)__\n",
      "  6. Basic Symmetries __[Lecture Notes](https://serc.carleton.edu/NAGTWorkshops/mineralogy/mineral_physics/tensors.html)__\n",
      "  "
     ]
    },
    {
     "cell_type": "markdown",
     "metadata": {},
     "source": [
      "\n",
      "###Input files\n",
      "__[Inputs](Inputfile.ipynb)__"
     ]
    },
    {
     "cell_type": "markdown",
     "metadata": {},
     "source": [
      "###Data and Plots"
     ]
    },
    {
     "cell_type": "code",
     "collapsed": false,
     "input": [
      "### Get the essential libraries\n",
      "%matplotlib inline\n",
      "#%pylab\n",
      "import pandas as pd\n",
      "import numpy as np\n",
      "import matplotlib.pyplot as plt\n",
      "from scipy import optimize\n",
      "#import pip\n",
      "#!python -m pip install --upgrade pip\n",
      "#pip.main(['install',mpld3])\n",
      "#!pip install mpld3\n",
      "#import mpld3\n",
      "#from mpl_toolkits.mplot3d import Axes3D\n",
      "\n",
      "#from matplotlib import rc\n",
      "#rc('font',**{'family':'sans-serif','sans-serif':['Helvetica']})\n",
      "## for Palatino and other serif fonts use:\n",
      "#rc('font',**{'family':'serif','serif':['Palatino']})\n",
      "#rc('text', usetex=True)"
     ],
     "language": "python",
     "metadata": {},
     "outputs": [],
     "prompt_number": 75
    },
    {
     "cell_type": "code",
     "collapsed": false,
     "input": [
      "#Read and adjust data\n",
      "FILES=np.array(['WSL_0.txt','WSL_1.txt'])\n",
      "figure=plt.figure(figsize=(12, 4), dpi= 80, facecolor='w', edgecolor='k')\n",
      "\n",
      "j=1\n",
      "\n",
      "for i in FILES:\n",
      "    d=pd.read_table(i,delimiter=' ',names=['eps','R','R_std'])\n",
      "    dr=d.dropna()\n",
      "\n",
      "## Transform Data \n",
      "    N=len(dr.R)\n",
      "    W=np.zeros(N)\n",
      "    for i in range(N):\n",
      "        W[i]=-np.trapz(dr.R[:i+1],dr.eps[:i+1])\n",
      "        #print W[i]\n",
      "\n",
      "## Fit data\n",
      "    fitfunc = lambda p, x: p[0]*x*x+ p[1]*x+p[2] # Target function\n",
      "    errfunc = lambda p, x, y: fitfunc(p, x) - y # Distance to the target function\n",
      "\n",
      "    p0 = [1., 0.8, 0., -1.] # Initial guess for the parameters\n",
      "    p1, success = optimize.leastsq(errfunc, p0[:], args=(dr.eps, W))\n",
      "\n",
      "    print(\"Coefficients (ax**2+bx+c): a=%4.5f\\tb=%4.5f\\tc=%4.5f\" % (p1[0],p1[1],p1[2]))\n",
      "\n",
      "## Plot and label\n",
      "    ax1=figure.add_subplot(1,2,j)\n",
      "    ax1.plot(dr.eps,W,'ro--',dr.eps,fitfunc(p1,dr.eps),linewidth=3.0)\n",
      "    ax1.set_xlabel('$\\epsilon(kcal/mol)$')\n",
      "    ax1.set_ylabel(\"WSL\")\n",
      "    ax1.set_title('WSL for SPC/E Water on SCC Solid')\n",
      "    ax1.legend(['Data','Fit'],loc=2)\n",
      "    ax1.set_ylim([-5, 150])\n",
      "    ax1.set_xlim([0, 0.3])\n",
      "    j=j+1\n",
      "    plt.grid()"
     ],
     "language": "python",
     "metadata": {},
     "outputs": [
      {
       "output_type": "stream",
       "stream": "stdout",
       "text": [
        "Coefficients (ax**2+bx+c): a=182.46192\tb=515.57403\tc=-7.86221\n",
        "Coefficients (ax**2+bx+c): a=346.90157\tb=445.19839\tc=-18.33773\n"
       ]
      },
      {
       "metadata": {},
       "output_type": "display_data",
       "png": "[encoded data removed]",
       "text": [
        "<matplotlib.figure.Figure at 0x125870f0>"
       ]
      }
     ],
     "prompt_number": 139
    },
    {
     "cell_type": "code",
     "collapsed": false,
     "input": [
      "import sympy as sm"
     ],
     "language": "python",
     "metadata": {},
     "outputs": [],
     "prompt_number": 102
    },
    {
     "cell_type": "code",
     "collapsed": false,
     "input": [
      "x,y=sm.symbols('x y')\n",
      "f=sm.Function('f')(x)"
     ],
     "language": "python",
     "metadata": {},
     "outputs": [],
     "prompt_number": 104
    }
   ],
   "metadata": {}
  }
 ]
}