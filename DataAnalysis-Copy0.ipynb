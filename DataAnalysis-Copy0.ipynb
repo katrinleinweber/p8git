{
 "metadata": {
  "name": "",
  "signature": "sha256:c3dd294274a0747a2a1567567b567d73d47306979dad54ca5ad787e250820994"
 },
 "nbformat": 3,
 "nbformat_minor": 0,
 "worksheets": [
  {
   "cells": [
    {
     "cell_type": "code",
     "collapsed": false,
     "input": [
      "#cd ~/Documents/molecules/p8git/results"
     ],
     "language": "python",
     "metadata": {},
     "outputs": [
      {
       "output_type": "stream",
       "stream": "stdout",
       "text": [
        "composite\n",
        "ref\n"
       ]
      }
     ],
     "prompt_number": 10
    },
    {
     "cell_type": "code",
     "collapsed": false,
     "input": [
      "!ls\n"
     ],
     "language": "python",
     "metadata": {},
     "outputs": [
      {
       "output_type": "stream",
       "stream": "stdout",
       "text": [
        "Data.ipynb\n",
        "DataAnalysis.ipynb\n",
        "droplets.ipynb\n",
        "droplets-Copy0.ipynb\n",
        "E_10.out\n",
        "E_20.out\n",
        "E_40.out\n",
        "fcc\n",
        "final\n",
        "Inputfile.ipynb\n",
        "lammps-16Mar18\n",
        "lammps-stable.tar.gz\n",
        "movie.xyz\n",
        "README.md\n",
        "Refs\n",
        "restart.dump\n",
        "restart.init\n",
        "restart.shift\n",
        "results\n",
        "scc\n",
        "solid.PNG\n",
        "solidmodel.jpg\n",
        "stress.out\n",
        "stress_bulk.out\n",
        "stress_surf.out\n",
        "temp.ipynb\n",
        "vmdscene\n",
        "vmdscene.bmp\n",
        "WSL_0.txt\n",
        "WSL_1.txt\n",
        "xsubmit\n"
       ]
      }
     ],
     "prompt_number": 5
    },
    {
     "cell_type": "code",
     "collapsed": false,
     "input": [],
     "language": "python",
     "metadata": {},
     "outputs": []
    }
   ],
   "metadata": {}
  }
 ]
}