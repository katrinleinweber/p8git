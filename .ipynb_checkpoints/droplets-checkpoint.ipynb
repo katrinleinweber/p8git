{
 "metadata": {
  "name": "",
  "signature": "sha256:ac84dea9d8e846508c2f7a7637a2a9fea5e5e577d5940456c29bb3e05e1747ef"
 },
 "nbformat": 3,
 "nbformat_minor": 0,
 "worksheets": [
  {
   "cells": [
    {
     "cell_type": "markdown",
     "metadata": {},
     "source": [
      "# Droplet Induced stress on solid surfaces\n",
      "## Parameter space\n",
      "-  $\\epsilon_{SL}$\n",
      "-  Young's modulus of the solid"
     ]
    },
    {
     "cell_type": "markdown",
     "metadata": {},
     "source": [
      "Solid models have to be choosen that allows modification of the Elastic modulus with change of a single variable. Two options available so far, <br>\n",
      "1. Simple Lattice Spring models, that follow E $\\alpha$ k/a scaling \n",
      "2. Morse potentials for more realistic solids for fcc and bcc structures"
     ]
    },
    {
     "cell_type": "code",
     "collapsed": false,
     "input": [],
     "language": "python",
     "metadata": {},
     "outputs": []
    }
   ],
   "metadata": {}
  }
 ]
}