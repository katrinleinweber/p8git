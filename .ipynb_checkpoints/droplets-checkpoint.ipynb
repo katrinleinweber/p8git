{
 "metadata": {
  "name": "",
  "signature": "sha256:a8434264d93e3d783bc50c26be3912231a569453b5fc405f9fc83fae92729b79"
 },
 "nbformat": 3,
 "nbformat_minor": 0,
 "worksheets": [
  {
   "cells": [
    {
     "cell_type": "markdown",
     "metadata": {},
     "source": [
      "# Droplet Induced stress on solid surfaces\n",
      "## Parameter space\n",
      "-  $\\epsilon_{SL}$\n",
      "-  Young's modulus of the solid"
     ]
    },
    {
     "cell_type": "markdown",
     "metadata": {},
     "source": [
      "Solid models have to be choosen that allows modification of the Elastic modulus with change of a single variable. Two options available so far, <br>\n",
      "1. Simple Lattice Spring models, that follow E $\\alpha$ k/a scaling __[Paper](https://link.springer.com/content/pdf/10.1007%2Fs00371-014-1015-5.pdf)__\n",
      "2. Morse potentials for more realistic solids for fcc and bcc structures __[Paper](https://aip.scitation.org/doi/pdf/10.1063/1.2198112)__"
     ]
    },
    {
     "cell_type": "code",
     "collapsed": false,
     "input": [],
     "language": "python",
     "metadata": {},
     "outputs": []
    }
   ],
   "metadata": {}
  }
 ]
}