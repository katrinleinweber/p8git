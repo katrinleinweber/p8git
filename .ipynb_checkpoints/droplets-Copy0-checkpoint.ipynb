{
 "metadata": {
  "celltoolbar": "Raw Cell Format",
  "name": "",
  "signature": "sha256:1155afab69181921f95dff2e45b46c48bd41355606814c642b726e711becbb9e"
 },
 "nbformat": 3,
 "nbformat_minor": 0,
 "worksheets": [
  {
   "cells": [
    {
     "cell_type": "code",
     "collapsed": false,
     "input": [
      "from IPython.display import HTML\n",
      "HTML('''<script>\n",
      "code_show=true; \n",
      "function code_toggle() {\n",
      " if (code_show){\n",
      " $('div.input').hide();\n",
      " } else {\n",
      " $('div.input').show();\n",
      " }\n",
      " code_show = !code_show\n",
      "} \n",
      "$( document ).ready(code_toggle);\n",
      "</script>\n",
      "<form action=\"javascript:code_toggle()\"><input type=\"submit\" value=\"HIDE CODE\"></form>''')"
     ],
     "language": "python",
     "metadata": {},
     "outputs": [
      {
       "html": [
        "<script>\n",
        "code_show=true; \n",
        "function code_toggle() {\n",
        " if (code_show){\n",
        " $('div.input').hide();\n",
        " } else {\n",
        " $('div.input').show();\n",
        " }\n",
        " code_show = !code_show\n",
        "} \n",
        "$( document ).ready(code_toggle);\n",
        "</script>\n",
        "<form action=\"javascript:code_toggle()\"><input type=\"submit\" value=\"Click here to toggle on/off the raw code.\"></form>"
       ],
       "metadata": {},
       "output_type": "pyout",
       "prompt_number": 2,
       "text": [
        "<IPython.core.display.HTML at 0x65914e0>"
       ]
      }
     ],
     "prompt_number": 2
    },
    {
     "cell_type": "markdown",
     "metadata": {
      "slideshow": {
       "slide_type": "slide"
      }
     },
     "source": [
      "## Model choices\n",
      "<font color=green>###Close section</font> <br>\n",
      "\n",
      "<font color=green>**Mass Spring Model with nearest and second nearest springs is stable. Use this model**</font>\n",
      "\n",
      "Solid models have to be choosen that allows modification of the Elastic modulus with change of a single variable. Two options available so far, <br>\n",
      "\n",
      "1. Simple Lattice Spring models, that follow E $\\alpha$ k/a scaling __[Paper1](https://link.springer.com/content/pdf/10.1007%2Fs00371-014-1015-5.pdf)__\n",
      "\n",
      "2. Morse potentials for more realistic solids for fcc and bcc structures __[Paper2](https://aip.scitation.org/doi/pdf/10.1063/1.2198112)__\n",
      "\n",
      "***\n",
      "EAM seems like an option --- widely used, but surface atoms are not modelled accurately __[Paper3](https://arxiv.org/ftp/arxiv/papers/1209/1209.4568.pdf)__\n",
      "<br>**Modeling Surface atoms is paramount**\n",
      "\n",
      "*** \n",
      "\n",
      "<div class=\"alert alert-block alert-info\"> Possible options <br> 1. LJ <br> 2. EAM and an updated version [Paper3] <br> 3. Bonds with Morse or <font color=green>Harmoic potentials</font></div>\n",
      "\n",
      "\n",
      "###Water Model\n",
      "SPCE @ 300 K <br>\n",
      "\n",
      "| $\\sigma_O$ | $\\epsilon_O(kcal/mol)$ | Cut-off | Long-range \n",
      "|------------| ---------------------- | ------- |---------- | \n",
      "| 3.166 | 0.15535 | 12 | PPPM/kspace diff ad | \n",
      "\n",
      "###Water-Solid\n",
      "\n",
      "| $\\sigma_{CO}$ | $\\epsilon_{CO}(kcal/mol)$ | Cut-off | Long-range \n",
      "|------------| ---------------------- | ------- |---------- | \n",
      "| 3.3525 | 0.01-1 | 12 | None |\n",
      "\n",
      "<br>\n",
      "\n",
      "### Solid Model\n",
      "1. MSM with nearest neighbor and second nearest neighbor interactions.\n",
      "2. Interactions mediated by harmonic springs. \n",
      "3. K is chosen based on the solid elastic modulus. \n",
      "\n",
      "<img src=\"files/solidmodel.jpg\">\n",
      "\n",
      "__[Input file](Inputfile.ipynb)__ \n",
      "\n",
      "A. Droplet Box dimesions\n",
      "\n",
      "B. Cylindrical droplet, with thick solid surface (8 layers)\n",
      "\n",
      "C. Number of water molecules 6400 --- computed assuming 90 degree contact angle and the droplet forms a hemisphere --- with dimensions 60 in y and radius 45 in x\n",
      "\n",
      "###Sizes:\n",
      "\n",
      "|X ($\\AA$) | Y |Z|Nwater|Nsolid\n",
      "|---|---|---| ---|---|\n",
      "| 350 | 60| 180| 6400|36000"
     ]
    },
    {
     "cell_type": "markdown",
     "metadata": {},
     "source": [
      "# Droplet Induced stress on solid surfaces\n",
      "## Problem to be Addressed \n",
      "We would like to figure out how droplet induced stress decays around the contact line. This information could be used to apply the Young's equation locally and accordingly study the structure of solid or droplet. \n",
      "\n",
      "<font color=red>Important</font>: To realize that the term that enters the Young's equation should be the interfacial tensions (for the solid) and not the free-energy values.\n",
      "\n",
      "First, we considered a water droplet on the surface of graphene. However, this problems make the study too specific, especially given that graphene has a high in-plane elastic modulus (~1TPa). To perform a systematic system, we now choose simple solid models with known elastic modulus and then simulate water droplets at various interaction strengths to see how the induced stress decays around the contact line. \n",
      "\n",
      "<font color=green>**To study this, we need the following**</font>\n",
      "    1. Several solid models with known (estimated) Young's modulus <font color=red> \n",
      "        **Modulus** is anisotropic, should consider that ---- solution is to use an isotropic solid\n",
      "    2. Water model, SPC/E @300K, 1 atm (check)\n",
      "    3. Sufficiently characterised water-solid interaction. Based on work of adhesion or $\\epsilon$ alone is fine, if the lattice constant of the surface remains constant.\n",
      "\n",
      "<font color=green>**Modeling strategy**</font>\n",
      "    1. Estimate Elastic moduli of solids\n",
      "        By modeling at least at 3 different deformations \n",
      "        Should be varied in a range of at least 2 orders of magnitude (1 GPa to 1000 GPa preferably)\n",
      "    2. Create a droplet on surfaces and equilibrate\n",
      "    3. Study a reference solid with the exact same structure without the droplet\n",
      "    4. Now, compute the droplet induced stresses and its spatial distribution\n",
      "    5. Tadaa!\n",
      "\n",
      "## Parameter space\n",
      "-  $\\epsilon_{SL}$\n",
      "-  Young's modulus of the solid\n",
      "\n",
      "<img src=\"files/vmdscene.bmp\">"
     ]
    },
    {
     "cell_type": "markdown",
     "metadata": {},
     "source": [
      "#THEORY\n",
      "\n",
      "1. Bulk Modulus and Cohesive Energy\n",
      "\\begin{align}\n",
      "B & = V^2\\frac{\\partial ^2E}{\\partial V^2} = -V\\frac{\\partial P}{\\partial V}\n",
      "\\end{align}\n",
      "\n",
      "2. Simple Cubic crystal (with atoms only on the edges of the cube) has 3 independent Elastic constants\n",
      "    C11 (Young's Modulus)\n",
      "    C12 (Modulus relating the stress in the direction perpendicular to the strain)\n",
      "    C44 (Shear Modulus)\n",
      "    The above constants could be computed by imposing a strain in x and measuring $\\sigma_{xx}$, $\\sigma_{yy}$ and $\\sigma_{zz}$\n",
      "    Bulk Modulus is given by, $B=\\frac{C11+2C12}{2}$\n",
      "\n",
      "3. Obtaining Elastic Modulus by deforming the box, <font color=Green> MD</font>  __[Paper](http://iopscience.iop.org/article/10.1088/0268-1242/21/7/014/pdf)__ <br>\n",
      "    \n",
      "    a. A rigorous formulation <br>\n",
      "    b. Deforms the entire volume or multiple directions <br>\n",
      "    c. Calls C11-C12 as the shear modulus (?) and also C44 "
     ]
    },
    {
     "cell_type": "markdown",
     "metadata": {},
     "source": [
      "##**References**<br>\n",
      "  1. Quick review of elasticity __[MIT notes](http://web.mit.edu/16.20/homepage/3_Constitutive/Constitutive_files/module_3_with_solutions.pdf)__\n",
      "  2. On moduli of fcc and bcc crystals __[SciHub](\"http://sci-hub.tw/10.1016/0956-7151(92\\)90421-a#\")__\n",
      "  3. More Baiscs and symmetries __[SciHub](https://sci-hub.tw/https://www.sciencedirect.com/science/article/pii/S1079404201800849)__\n",
      "  4. Heinz LJ potentials __[Heinz](https://pubs.acs.org/doi/pdf/10.1021/jp801931d)__\n",
      "  5. <font color=green>MD</font> Tutorial of determining Elastic properties of simple crystals __[Paper](http://micro.stanford.edu/mediawiki/images/8/83/Cnm_chap128_draft.pdf)__\n",
      "  6. Basic Symmetries __[Lecture Notes](https://serc.carleton.edu/NAGTWorkshops/mineralogy/mineral_physics/tensors.html)__\n",
      "  "
     ]
    },
    {
     "cell_type": "markdown",
     "metadata": {
      "slideshow": {
       "slide_type": "skip"
      }
     },
     "source": [
      "\n",
      "###Input files\n",
      "__[Inputs](Inputfile.ipynb)__"
     ]
    },
    {
     "cell_type": "markdown",
     "metadata": {
      "slideshow": {
       "slide_type": "skip"
      }
     },
     "source": [
      "###Data and Plots"
     ]
    },
    {
     "cell_type": "code",
     "collapsed": false,
     "input": [
      "### Get the essential libraries\n",
      "%matplotlib inline\n",
      "#%pylab\n",
      "import pandas as pd\n",
      "import numpy as np\n",
      "import matplotlib.pyplot as plt\n",
      "from scipy import optimize\n",
      "#import pip\n",
      "#!python -m pip install --upgrade pip\n",
      "#pip.main(['install',mpld3])\n",
      "#!pip install mpld3\n",
      "#import mpld3\n",
      "#from mpl_toolkits.mplot3d import Axes3D\n",
      "\n",
      "#from matplotlib import rc\n",
      "#rc('font',**{'family':'sans-serif','sans-serif':['Helvetica']})\n",
      "## for Palatino and other serif fonts use:\n",
      "#rc('font',**{'family':'serif','serif':['Palatino']})\n",
      "#rc('text', usetex=True)"
     ],
     "language": "python",
     "metadata": {
      "slideshow": {
       "slide_type": "skip"
      }
     },
     "outputs": [],
     "prompt_number": 2
    },
    {
     "cell_type": "code",
     "collapsed": true,
     "input": [
      "#Read and adjust data\n",
      "FILES=np.array(['WSL_0.txt','WSL_1.txt'])\n",
      "figure=plt.figure(figsize=(12, 4), dpi= 80, facecolor='w', edgecolor='k')\n",
      "\n",
      "j=1\n",
      "\n",
      "for i in FILES:\n",
      "    d=pd.read_table(i,delimiter=' ',names=['eps','R','R_std'])\n",
      "    dr=d.dropna()\n",
      "\n",
      "## Transform Data \n",
      "    N=len(dr.R)\n",
      "    W=np.zeros(N)\n",
      "    for i in range(N):\n",
      "        W[i]=-np.trapz(dr.R[:i+1],dr.eps[:i+1])\n",
      "        #print W[i]\n",
      "\n",
      "## Fit data\n",
      "    fitfunc = lambda p, x: p[0]*x*x*x+ p[1]*x*x+p[2]*x+p[3] # Target function\n",
      "    errfunc = lambda p, x, y: fitfunc(p, x) - y # Distance to the target function\n",
      "\n",
      "    p0 = [1., 0.8, 0., -1.] # Initial guess for the parameters\n",
      "    p1, success = optimize.leastsq(errfunc, p0[:], args=(dr.eps, W))\n",
      "\n",
      "    print(\"Coefficients (ax**3+bx*x+cx+d): a=%4.5f\\tb=%4.5f\\tc=%4.5f\\tc=%4.5f\" % (p1[0],p1[1],p1[2],p1[3]))\n",
      "\n",
      "## Plot and label\n",
      "    ax1=figure.add_subplot(1,2,j)\n",
      "    ax1.plot(dr.eps,W,'ro--',dr.eps,fitfunc(p1,dr.eps),linewidth=3.0)\n",
      "    ax1.set_xlabel('$\\epsilon(kcal/mol)$',fontsize=20)\n",
      "    ax1.set_ylabel(\"$W_{SL}$\",fontsize=20)\n",
      "    ax1.set_title('$W_{SL}$ for SPC/E Water on SCC Solid',fontsize=16)\n",
      "    ax1.legend(['Data','Fit'],loc=2)\n",
      "    ax1.tick_params(axis = 'both', which = 'major', labelsize = 14)\n",
      "    ax1.set_ylim([-5, 200])\n",
      "    ax1.set_xlim([0, 0.4])\n",
      "    j=j+1\n",
      "    plt.grid()\n",
      "\n"
     ],
     "language": "python",
     "metadata": {
      "slideshow": {
       "slide_type": "subslide"
      }
     },
     "outputs": [
      {
       "output_type": "stream",
       "stream": "stdout",
       "text": [
        "Coefficients (ax**3+bx*x+cx+d): a=-135.23465\tb=477.82334\tc=363.37472\tc=-2.82415\n",
        "Coefficients (ax**3+bx*x+cx+d): a=-522.16011\tb=834.00078\tc=325.74304\tc=-12.25984\n"
       ]
      },
      {
       "metadata": {},
       "output_type": "display_data",
       "png": "[encoded data removed]",
       "text": [
        "<matplotlib.figure.Figure at 0x21aa03c8>"
       ]
      }
     ],
     "prompt_number": 135
    },
    {
     "cell_type": "code",
     "collapsed": false,
     "input": [
      "FILES=np.array(['E_10.out','E_20.out','E_40.out'])\n",
      "D1=pd.read_table('E_10.out',names=['K','Bulk','Shear1','Shear2','Poisson'])\n",
      "D2=pd.read_table('E_20.out',names=['K','Bulk','Shear1','Shear2','Poisson'])\n",
      "D3=pd.read_table('E_40.out',names=['K','Bulk','Shear1','Shear2','Poisson'])\n",
      "\n",
      "#figure=plt.figure(figsize=(12, 4), dpi= 80, facecolor='w', edgecolor='k')\n",
      "#plt.plot(D1.K,D1.Bulk,'r-o',D2.K,D2.Bulk,'b-o',D3.K,D3.Bulk,'g-o',D1.K,D1.Shear1,'r-o',D2.K,D2.Shear1,'b-o',D3.K,D3.Shear1,'g-o');\n",
      "#plt.xlabel('Spring Constant (kcal/molA2)',fontsize=20)\n",
      "#plt.ylabel('Modulus GPa',fontsize=20)\n",
      "#plt.tick_params(labelsize=14)\n",
      "#plt.title('Elastic Moduli vs. K',fontsize=20)\n",
      "#plt.legend(['Bulk','Shear1=Shear2'],loc=2)\n",
      "\n",
      "## Fit data\n",
      "fitfunc1 = lambda p, x: p[0]*x+ p[1]# Target function\n",
      "errfunc1 = lambda p, x, y: fitfunc1(p, x) - y # Distance to the target function\n",
      "p0 = [1.,1] # Initial guess for the parameters\n",
      "p11, success = optimize.leastsq(errfunc1, p0[:], args=(D1.K, D1.Bulk))\n",
      "p22, success = optimize.leastsq(errfunc1, p0[:], args=(D1.K, D1.Shear1))\n",
      "print(\"Coefficients (ax+b) Bulk: a=%4.5f\\tb=%4.5f\" % (p11[0],p11[1])) \n",
      "print(\"Coefficients (ax+b) Shear: a=%4.5f\\tb=%4.5f\" % (p22[0],p22[1]))\n",
      "\n",
      "print(\"Poisson's ratio = 0.25\")\n",
      "\n",
      "py.iplot([Scatter(x=D1.K,y=D1.Bulk),Scatter(x=D1.K,y=D1.Shear1)])"
     ],
     "language": "python",
     "metadata": {
      "slideshow": {
       "slide_type": "subslide"
      }
     },
     "outputs": [
      {
       "output_type": "stream",
       "stream": "stdout",
       "text": [
        "Coefficients (ax+b) Bulk: a=9.26359\tb=0.00000\n",
        "Coefficients (ax+b) Shear: a=5.55816\tb=0.00000\n",
        "Poisson's ratio = 0.25\n"
       ]
      },
      {
       "html": [
        "<iframe id=\"igraph\" scrolling=\"no\" style=\"border:none;\"seamless=\"seamless\" src=\"https://plot.ly/~feynman/29.embed\" height=\"525px\" width=\"100%\"></iframe>"
       ],
       "metadata": {},
       "output_type": "pyout",
       "prompt_number": 139,
       "text": [
        "<plotly.tools.PlotlyDisplay at 0x217fe940>"
       ]
      }
     ],
     "prompt_number": 139
    },
    {
     "cell_type": "code",
     "collapsed": false,
     "input": [
      "##Epsilon_SL values\n",
      "\n",
      "#values=np.array([0.05,0.1242,0.1433,0.1795,0.3052,0.348])\n",
      "values=np.array([0.05,0.1242,0.1433,0.1795,0.2294,])\n",
      "Wout=fitfunc(p1,values)\n",
      "\n",
      "W_req=pd.DataFrame({'eps': values,'WSL': Wout})\n",
      "W_req"
     ],
     "language": "python",
     "metadata": {
      "slideshow": {
       "slide_type": "subslide"
      }
     },
     "outputs": [
      {
       "html": [
        "<div style=\"max-width:1500px;overflow:auto;\">\n",
        "<table border=\"1\" class=\"dataframe\">\n",
        "  <thead>\n",
        "    <tr style=\"text-align: right;\">\n",
        "      <th></th>\n",
        "      <th>WSL</th>\n",
        "      <th>eps</th>\n",
        "    </tr>\n",
        "  </thead>\n",
        "  <tbody>\n",
        "    <tr>\n",
        "      <th>0</th>\n",
        "      <td>6.047045</td>\n",
        "      <td>0.0500</td>\n",
        "    </tr>\n",
        "    <tr>\n",
        "      <th>1</th>\n",
        "      <td>40.062054</td>\n",
        "      <td>0.1242</td>\n",
        "    </tr>\n",
        "    <tr>\n",
        "      <th>2</th>\n",
        "      <td>50.008718</td>\n",
        "      <td>0.1433</td>\n",
        "    </tr>\n",
        "    <tr>\n",
        "      <th>3</th>\n",
        "      <td>70.062819</td>\n",
        "      <td>0.1795</td>\n",
        "    </tr>\n",
        "    <tr>\n",
        "      <th>4</th>\n",
        "      <td>100.050839</td>\n",
        "      <td>0.2294</td>\n",
        "    </tr>\n",
        "  </tbody>\n",
        "</table>\n",
        "</div>"
       ],
       "metadata": {},
       "output_type": "pyout",
       "prompt_number": 152,
       "text": [
        "          WSL     eps\n",
        "0    6.047045  0.0500\n",
        "1   40.062054  0.1242\n",
        "2   50.008718  0.1433\n",
        "3   70.062819  0.1795\n",
        "4  100.050839  0.2294"
       ]
      }
     ],
     "prompt_number": 152
    },
    {
     "cell_type": "code",
     "collapsed": false,
     "input": [
      "## K values \n",
      "## Based on Bulk modulus \n",
      "B_req=np.array([1, 5, 10, 20, 50, 75, 100, 150, 200, 250, 500, 750, 1000])\n",
      "K_req=B_req/p11[0]\n",
      "K_table=pd.DataFrame({'K': K_req , 'B': B_req})\n",
      "K_table\n",
      "\n"
     ],
     "language": "python",
     "metadata": {
      "slideshow": {
       "slide_type": "subslide"
      }
     },
     "outputs": [
      {
       "html": [
        "<div style=\"max-width:1500px;overflow:auto;\">\n",
        "<table border=\"1\" class=\"dataframe\">\n",
        "  <thead>\n",
        "    <tr style=\"text-align: right;\">\n",
        "      <th></th>\n",
        "      <th>B</th>\n",
        "      <th>K</th>\n",
        "    </tr>\n",
        "  </thead>\n",
        "  <tbody>\n",
        "    <tr>\n",
        "      <th>0</th>\n",
        "      <td>1</td>\n",
        "      <td>0.107949</td>\n",
        "    </tr>\n",
        "    <tr>\n",
        "      <th>1</th>\n",
        "      <td>5</td>\n",
        "      <td>0.539747</td>\n",
        "    </tr>\n",
        "    <tr>\n",
        "      <th>2</th>\n",
        "      <td>10</td>\n",
        "      <td>1.079495</td>\n",
        "    </tr>\n",
        "    <tr>\n",
        "      <th>3</th>\n",
        "      <td>20</td>\n",
        "      <td>2.158990</td>\n",
        "    </tr>\n",
        "    <tr>\n",
        "      <th>4</th>\n",
        "      <td>50</td>\n",
        "      <td>5.397474</td>\n",
        "    </tr>\n",
        "    <tr>\n",
        "      <th>5</th>\n",
        "      <td>75</td>\n",
        "      <td>8.096211</td>\n",
        "    </tr>\n",
        "    <tr>\n",
        "      <th>6</th>\n",
        "      <td>100</td>\n",
        "      <td>10.794948</td>\n",
        "    </tr>\n",
        "    <tr>\n",
        "      <th>7</th>\n",
        "      <td>150</td>\n",
        "      <td>16.192421</td>\n",
        "    </tr>\n",
        "    <tr>\n",
        "      <th>8</th>\n",
        "      <td>200</td>\n",
        "      <td>21.589895</td>\n",
        "    </tr>\n",
        "    <tr>\n",
        "      <th>9</th>\n",
        "      <td>250</td>\n",
        "      <td>26.987369</td>\n",
        "    </tr>\n",
        "    <tr>\n",
        "      <th>10</th>\n",
        "      <td>500</td>\n",
        "      <td>53.974738</td>\n",
        "    </tr>\n",
        "    <tr>\n",
        "      <th>11</th>\n",
        "      <td>750</td>\n",
        "      <td>80.962107</td>\n",
        "    </tr>\n",
        "    <tr>\n",
        "      <th>12</th>\n",
        "      <td>1000</td>\n",
        "      <td>107.949476</td>\n",
        "    </tr>\n",
        "  </tbody>\n",
        "</table>\n",
        "</div>"
       ],
       "metadata": {},
       "output_type": "pyout",
       "prompt_number": 55,
       "text": [
        "       B           K\n",
        "0      1    0.107949\n",
        "1      5    0.539747\n",
        "2     10    1.079495\n",
        "3     20    2.158990\n",
        "4     50    5.397474\n",
        "5     75    8.096211\n",
        "6    100   10.794948\n",
        "7    150   16.192421\n",
        "8    200   21.589895\n",
        "9    250   26.987369\n",
        "10   500   53.974738\n",
        "11   750   80.962107\n",
        "12  1000  107.949476"
       ]
      }
     ],
     "prompt_number": 55
    },
    {
     "cell_type": "code",
     "collapsed": false,
     "input": [
      "## Reference Bulk Moduli of real systems: GPa\n",
      "\n",
      "ref_mat=np.array(['Air','Water','Benzene','Mercury','Glass','Steel','Diamond','Graphene'])\n",
      "B_ref=np.array([0.1,2.15,1,28.5,45,150,450,1000])\n",
      "Ref_table=pd.DataFrame({'Material':ref_mat,'Modulus':B_ref})\n",
      "\n",
      "soft=Ref_table.loc[Ref_table['Modulus']<100]\n",
      "hard=Ref_table.loc[Ref_table['Modulus']>100]\n",
      "#print Ref_table.loc['Material']-soft.loc['Material']\n",
      "#fig=plt.figure(figsize=(16,8))\n",
      "\n",
      "#ax1=fig.add_subplot(1,2,1)\n",
      "#ax2=fig.add_subplot(1,2,2)\n",
      "#soft.plot(x='Material',y='Modulus',kind='bar',ax=ax1)\n",
      "#hard.plot(x='Material',y='Modulus',kind='bar',ax=ax2)"
     ],
     "language": "python",
     "metadata": {
      "slideshow": {
       "slide_type": "subslide"
      }
     },
     "outputs": [],
     "prompt_number": 128
    },
    {
     "cell_type": "code",
     "collapsed": false,
     "input": [
      "import plotly.plotly\n",
      "py.sign_in('vikram.ardham@outlook.com','FGVmJyhBrT2SlHAMwWQZ')\n",
      "from plotly.graph_objs import *\n",
      "\n",
      "data = [Bar(x=Ref_table['Material'],\n",
      "            y=Ref_table['Modulus'])]\n",
      "\n",
      "py.iplot(data)"
     ],
     "language": "python",
     "metadata": {
      "slideshow": {
       "slide_type": "subslide"
      }
     },
     "outputs": [
      {
       "html": [
        "<iframe id=\"igraph\" scrolling=\"no\" style=\"border:none;\"seamless=\"seamless\" src=\"https://plot.ly/~feynman/19.embed\" height=\"525px\" width=\"100%\"></iframe>"
       ],
       "metadata": {},
       "output_type": "pyout",
       "prompt_number": 126,
       "text": [
        "<plotly.tools.PlotlyDisplay at 0x21712a90>"
       ]
      }
     ],
     "prompt_number": 126
    },
    {
     "cell_type": "markdown",
     "metadata": {},
     "source": [
      "## Things to DO\n",
      "\n",
      "Now simulations are RUNNING\n",
      "\n",
      "1. Compute Stress\n",
      "    a. Solid-liquid \n",
      "    b. Reference solid-solid \n",
      "\n",
      "2. Velocity correlation can be tested after equilibration\n",
      "\n",
      "3. Deformation of the solid \n",
      "    a. Needs computation of average position of the solid atoms\n",
      "\n",
      "\n",
      "### Programs needed\n",
      "1. Averaging and plotting contours\n",
      "2. Need to determine the contactline quantitatively"
     ]
    },
    {
     "cell_type": "markdown",
     "metadata": {
      "slideshow": {
       "slide_type": "notes"
      }
     },
     "source": [
      "## Daily Updates\n",
      "<div class=\"alert alert-block alert-success\"> 15-05-2018</div> \n",
      "   1. Submitted jobs (5x5) and different $\\epsilon$ and _K_ values <br>\n",
      "   2. Have problems with **computing 2D Density** of any other contours <br>\n",
      "   3. After equilibration, makes sense to **output** trajectories or find better ways\n",
      "    \n",
      "<div class=\"alert alert-block alert-success\"> 16-05-2018</div>\n",
      "   1. Noticed that K=0.1 is **too soft** ---> not a solid \n",
      "   2. So, gathered reference experimental data. A solid should have a Bulk Modulus of **at least ~30 GPa** \n",
      "   3. Now, choose paramters accordingly (__K>=4__)\n",
      "   4. Stress on solids in x-y direction? ---> There is a stress of ~100 atm (for barostat Peq=1 in xy only) for all the solids <br>\n",
      "    a. trying out barostat with 0 presssure and smaller time constant <br>\n",
      "    b. IS FINE\n",
      "   5. z-direction? NPT seems unstable?? WTF is wrong here??\n",
      "   6. Submitted 5 K values (2 new) and 6 epsilon values ... running \n",
      "       <br>needs checking"
     ]
    },
    {
     "cell_type": "code",
     "collapsed": false,
     "input": [],
     "language": "python",
     "metadata": {},
     "outputs": []
    }
   ],
   "metadata": {}
  }
 ]
}