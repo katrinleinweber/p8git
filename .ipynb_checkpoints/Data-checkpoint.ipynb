{
 "metadata": {
  "name": "",
  "signature": "sha256:023a46ce703ec65456e3e4460e8f878f06064074dddd45c794099b1c30be4863"
 },
 "nbformat": 3,
 "nbformat_minor": 0,
 "worksheets": [
  {
   "cells": [
    {
     "cell_type": "markdown",
     "metadata": {},
     "source": [
      "Temporary Notebook\n",
      "<a id=\"WaterInput\"></a>\n",
      "####Water Alone \n",
      "\n",
      "*units\t\treal\t<br>\n",
      "atom_style\tfull <br>\n",
      "read_data\twaterdrop.lmp <br>\n",
      "\n",
      "*pair_style\t**lj/cut/coul/long 12 <br>\n",
      "kspace_style\tpppm 1.0e-4 <br>\n",
      "pair_coeff\t2 2 0.15535 3.166 <br> \n",
      "pair_coeff\t1 1 0.0000 0.0000** *\n",
      "\n",
      "*bond_style\tharmonic <br>\n",
      "angle_style\tharmonic <br>\n",
      "dihedral_style\tnone  <br>\n",
      "improper_style\tnone <br>\n",
      "bond_coeff\t1 1000.00 1.000 <br>\n",
      "angle_coeff\t1 100.0 109.47 <br>\n",
      "mass 1 1.008  <br>\n",
      "mass 2 15.9994*\n",
      " \n",
      "**set type 1 charge 0.4238 <br>\n",
      "set type 2 charge -0.8476 ** <br>\n",
      "neighbor        2.0 bin <br>\n",
      "neigh_modify\tevery 1 delay 10 check yes*\n",
      "\n",
      "**fix\t\t2 all nvt temp 300.0 300.0 100.0 #z 1.0 1.0 1000** *\n",
      "\n",
      "*velocity\tall create 300 432567 dist uniform <br>\n",
      "dump A all custom 5000 movie.lammpstrj id type x y z <br>\n",
      "minimize 1e-06 1e-06 100000 400000 <br>\n",
      "unfix a <br>\n",
      "    **fix\t\t1 all shake 0.0001 20 0 b 1 a 1 <br>**\n",
      "timestep\t1.0*\n",
      "\n",
      "*variable gamma equal ((pxx+pyy)*0.5-pzz)*lz*0.5*0.010325 <br>\n",
      "thermo_style    custom step temp etotal press lz <br>\n",
      "fix A all ave/time 1 200000 200000 v_gamma file gamma_${n}.out <br>\n",
      "thermo\t\t1000 <br>\n",
      "restart 50000 restart1 restart2 <br>\n",
      "run\t\t6000000* \n",
      "\n",
      "<a id=\"WorkofAdhesion\"></a>"
     ]
    },
    {
     "cell_type": "code",
     "collapsed": false,
     "input": [],
     "language": "python",
     "metadata": {},
     "outputs": []
    }
   ],
   "metadata": {}
  }
 ]
}